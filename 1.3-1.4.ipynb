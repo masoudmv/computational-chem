{
 "cells": [
  {
   "metadata": {},
   "cell_type": "markdown",
   "source": "# Hartree-Fock implementation from scratch",
   "id": "d8f15b5c8dd1cf40"
  },
  {
   "cell_type": "code",
   "id": "initial_id",
   "metadata": {
    "collapsed": true,
    "ExecuteTime": {
     "end_time": "2025-10-17T10:10:38.832997Z",
     "start_time": "2025-10-17T10:10:38.546522Z"
    }
   },
   "source": [
    "import numpy as np\n",
    "from itertools import combinations"
   ],
   "outputs": [],
   "execution_count": 1
  },
  {
   "metadata": {
    "ExecuteTime": {
     "end_time": "2025-10-17T10:10:38.855473Z",
     "start_time": "2025-10-17T10:10:38.839010Z"
    }
   },
   "cell_type": "code",
   "source": [
    "# convert a triangular matrix into a symmetric one\n",
    "def symmetrize(matrix):\n",
    "    return matrix + matrix.T - np.diag(matrix.diagonal())"
   ],
   "id": "16aec18c0572646c",
   "outputs": [],
   "execution_count": 2
  },
  {
   "metadata": {},
   "cell_type": "markdown",
   "source": [
    "# Yoshimine Sort \n",
    "Yoshimine sort is a way to store two-electron integrals more efficiently. Each integral $(ij|kl)$ depends on four indices, but many of them are the same because of symmetry — for example, Instead of saving all these duplicates, Yoshimine sort turns the four indices into one unique integer key. \n",
    "That key always gives the same number for any symmetric permutation of $(ij∣kl)$, so you only store each integral once and can find it quickly when building the Fock matrix.\n"
   ],
   "id": "487cf41bc635e69e"
  },
  {
   "metadata": {
    "ExecuteTime": {
     "end_time": "2025-10-17T10:10:38.867918Z",
     "start_time": "2025-10-17T10:10:38.862005Z"
    }
   },
   "cell_type": "code",
   "source": [
    "# Return compound index given four indices using Yoshimine sort\n",
    "def yoshimine(a, b, c, d): \n",
    "    if a > b: ab = a*(a+1)/2 + b\n",
    "    else: ab = b*(b+1)/2 + a\n",
    "    if c > d: cd = c*(c+1)/2 + d\n",
    "    else: cd = d*(d+1)/2 + c\n",
    "    if ab > cd: abcd = ab*(ab+1)/2 + cd\n",
    "    else: abcd = cd*(cd+1)/2 + ab\n",
    "\n",
    "    return abcd\n"
   ],
   "id": "11bd35eee1dacca7",
   "outputs": [],
   "execution_count": 3
  },
  {
   "metadata": {
    "ExecuteTime": {
     "end_time": "2025-10-17T10:10:38.882283Z",
     "start_time": "2025-10-17T10:10:38.874154Z"
    }
   },
   "cell_type": "code",
   "source": [
    "# Load Two Electron Integrals (TEI) from file\n",
    "TEI = np.genfromtxt('./two_electron_int.txt') \n",
    "two_e = {yoshimine(row[0], row[1], row[2], row[3]) : row[4] for row in TEI}"
   ],
   "id": "219bacfbaa62ae29",
   "outputs": [],
   "execution_count": 4
  },
  {
   "metadata": {
    "ExecuteTime": {
     "end_time": "2025-10-17T10:10:38.895013Z",
     "start_time": "2025-10-17T10:10:38.890702Z"
    }
   },
   "cell_type": "code",
   "source": [
    "# Return value of two electron integral\n",
    "def two_electron_integral(a, b, c, d): \n",
    "    return two_e.get(yoshimine(a, b, c, d))"
   ],
   "id": "37feed3e05018e2b",
   "outputs": [],
   "execution_count": 5
  },
  {
   "metadata": {},
   "cell_type": "markdown",
   "source": [
    "# Density Matrix Construction\n",
    "In restricted Hartree–Fock (RHF), the density matrix represents how electrons occupy the atomic-orbital basis functions.\n",
    "It is computed from the molecular-orbital (MO) coefficients as\n",
    "$$\n",
    "D_{\\mu \\nu} = 2 \\sum_{m=1}^{N_\\text{occ}} C_{\\mu m} C_{\\nu m}\n",
    "$$\n"
   ],
   "id": "279e4575fa59616c"
  },
  {
   "metadata": {
    "ExecuteTime": {
     "end_time": "2025-10-17T10:10:38.907668Z",
     "start_time": "2025-10-17T10:10:38.900932Z"
    }
   },
   "cell_type": "code",
   "source": [
    "def make_density_matrix(C, D, dim, N):\n",
    "    Dold = np.zeros((dim, dim))\n",
    "    for mu in range(0, dim):\n",
    "        for nu in range(0, dim):\n",
    "            Dold[mu,nu] = D[mu, nu]\n",
    "            D[mu,nu] = 0\n",
    "            for m in range(0, int(N/2)):\n",
    "                D[mu,nu] = D[mu,nu] + 2*C[mu,m]*C[nu,m]\n",
    "\n",
    "    return D, Dold"
   ],
   "id": "1d705cc8e42f4118",
   "outputs": [],
   "execution_count": 6
  },
  {
   "metadata": {},
   "cell_type": "markdown",
   "source": [
    "# Fock matrix\n",
    "The Fock matrix is the central matrix in the Hartree–Fock method — it represents the effective one-electron Hamiltonian that each electron “feels” in the average field of all the others. In other words, instead of solving the full, many-electron Schrödinger equation (which is impossible to do exactly for large systems), Hartree–Fock approximates it by making each electron move in an average potential created by all other electrons. The Fock matrix collects this information in the atomic orbital (AO) basis. Mathematically, it defines the Fock operator ,whose matrix form in an AO basis is:\n",
    "\n",
    "$$\n",
    "F_{\\mu \\nu} = H^{core}_{\\mu \\nu} + \\sum_{\\lambda,\\sigma} P_{\\lambda \\sigma} [ (\\mu \\nu|\\lambda \\sigma) - \\dfrac{1}{2} (\\mu \\nu|\\nu \\sigma) ] \n",
    "$$"
   ],
   "id": "30020a618efc551d"
  },
  {
   "metadata": {
    "ExecuteTime": {
     "end_time": "2025-10-17T10:10:38.922511Z",
     "start_time": "2025-10-17T10:10:38.913607Z"
    }
   },
   "cell_type": "code",
   "source": [
    "def make_fock_matrix(H, P, dim):\n",
    "    F = np.zeros((dim, dim))\n",
    "    for i in range(0, dim):\n",
    "        for j in range(0, dim):\n",
    "            F[i,j] = H[i,j]\n",
    "            for k in range(0, dim):\n",
    "                for l in range(0, dim):\n",
    "                    F[i,j] = F[i,j] + P[k,l]*(two_electron_integral(i + 1, j + 1, k + 1, l + 1) - 0.5 * two_electron_integral(i + 1, k + 1, j + 1, l + 1))\n",
    "    \n",
    "    return F"
   ],
   "id": "ea3827f3bb197873",
   "outputs": [],
   "execution_count": 7
  },
  {
   "metadata": {
    "ExecuteTime": {
     "end_time": "2025-10-17T10:10:39.639038Z",
     "start_time": "2025-10-17T10:10:39.630113Z"
    }
   },
   "cell_type": "code",
   "source": [
    "# Calculate change in density matrix using Root Mean Square Deviation (RMSD)\n",
    "def delta_p(D, Dold, dim):\n",
    "    DELTA = 0.0\n",
    "    for i in range(0, dim):\n",
    "        for j in range(0, dim):\n",
    "            DELTA = DELTA + ((D[i,j] - Dold[i,j])**2)\n",
    "\n",
    "    return DELTA**0.5"
   ],
   "id": "8669c906898ab090",
   "outputs": [],
   "execution_count": 8
  },
  {
   "metadata": {
    "ExecuteTime": {
     "end_time": "2025-10-17T10:10:39.762239Z",
     "start_time": "2025-10-17T10:10:39.755196Z"
    }
   },
   "cell_type": "code",
   "source": [
    "# Calculate energy at iteration\n",
    "def current_energy(D, H, F, dim):\n",
    "    EN = 0\n",
    "    for mu in range(0, dim):\n",
    "        for nu in range(0, dim):\n",
    "            EN += 0.5*D[mu,nu]*(H[mu,nu] + F[mu,nu])\n",
    "            \n",
    "    return EN"
   ],
   "id": "a210ab12f9b3ec05",
   "outputs": [],
   "execution_count": 9
  },
  {
   "metadata": {},
   "cell_type": "markdown",
   "source": "# $HHe^+$ System\n",
   "id": "4e7d7bd69453077f"
  },
  {
   "metadata": {
    "ExecuteTime": {
     "end_time": "2025-10-17T10:10:39.827486Z",
     "start_time": "2025-10-17T10:10:39.816039Z"
    }
   },
   "cell_type": "code",
   "source": [
    "N = 2 # The number of electrons in our system \n",
    "E_NUC = np.genfromtxt('./e_nuc.txt',dtype=float, delimiter=',') # nuclear repulsion, \n",
    "S_raw = np.genfromtxt('./s.txt',dtype=None) # overlap matrix, \n",
    "T_raw = np.genfromtxt('./t.txt',dtype=None) # kinetic energy matrix,\n",
    "V_raw = np.genfromtxt('./v.txt',dtype=None) # potential energy matrix\n",
    "\n",
    "dim = 2 # dim is the number of basis functions \n",
    "S = np.zeros((dim, dim)) \n",
    "T = np.zeros((dim, dim))\n",
    "V = np.zeros((dim, dim))\n",
    "\n",
    "for i in S_raw: S[i[0]-1, i[1]-1] = i[2] \n",
    "for i in T_raw: T[i[0]-1, i[1]-1] = i[2] \n",
    "for i in V_raw: V[i[0]-1, i[1]-1] = i[2]"
   ],
   "id": "868f699f6a647523",
   "outputs": [],
   "execution_count": 10
  },
  {
   "metadata": {
    "ExecuteTime": {
     "end_time": "2025-10-17T10:10:39.859638Z",
     "start_time": "2025-10-17T10:10:39.844377Z"
    }
   },
   "cell_type": "code",
   "source": [
    "S = symmetrize(S) \n",
    "V = symmetrize(V) \n",
    "T = symmetrize(T)\n",
    "\n",
    "Hcore = T + V \n",
    "\n",
    "# Symmetric orthogonalization\n",
    "eigvals, eigvecs = np.linalg.eigh(S)\n",
    "S_inv_sqrt = eigvecs @ np.diag(eigvals**-0.5) @ eigvecs.T  # X = S^{-1/2}\n",
    "\n",
    "# Initialize density and SCF loop control variables\n",
    "P_new = np.zeros((dim, dim)) \n",
    "delta = 1.0 \n",
    "iteration = 0 \n"
   ],
   "id": "3a1287d4f6a66228",
   "outputs": [],
   "execution_count": 11
  },
  {
   "metadata": {
    "ExecuteTime": {
     "end_time": "2025-10-17T10:10:39.907464Z",
     "start_time": "2025-10-17T10:10:39.889286Z"
    }
   },
   "cell_type": "code",
   "source": [
    "while delta > 1e-5:\n",
    "    iteration += 1\n",
    "    \n",
    "    F = make_fock_matrix(Hcore, P_new, dim)      \n",
    "    Fprime = np.dot(np.transpose(S_inv_sqrt), np.dot(F, S_inv_sqrt)) \n",
    "    \n",
    "    E, C_prime = np.linalg.eigh(Fprime)        \n",
    "    C = np.dot(S_inv_sqrt, C_prime)\n",
    "    \n",
    "    P_new, P_old = make_density_matrix(C, P_new, dim, N)\n",
    "    \n",
    "    delta = delta_p(P_new, P_old, dim)    \n",
    "    \n",
    "    print(f\" iteration {iteration}: E = {current_energy(P_new, Hcore, F, dim) + E_NUC:.6f}\")\n",
    "\n",
    "print(\"TOTAL E(SCF) = {} hartrees\".format(current_energy(P_new, Hcore, F, dim) + E_NUC))\n"
   ],
   "id": "57e3a6dceeb63374",
   "outputs": [
    {
     "name": "stdout",
     "output_type": "stream",
     "text": [
      " iteration 1: E = -3.345374\n",
      " iteration 2: E = -2.418618\n",
      " iteration 3: E = -2.439621\n",
      " iteration 4: E = -2.443370\n",
      " iteration 5: E = -2.444016\n",
      " iteration 6: E = -2.444127\n",
      " iteration 7: E = -2.444146\n",
      " iteration 8: E = -2.444149\n",
      "TOTAL E(SCF) = -2.444149490118208 hartrees\n"
     ]
    }
   ],
   "execution_count": 12
  },
  {
   "metadata": {},
   "cell_type": "markdown",
   "source": "# Full Configuration Interaction",
   "id": "18c67b14f8e72a53"
  },
  {
   "metadata": {
    "ExecuteTime": {
     "end_time": "2025-10-17T10:10:39.979854Z",
     "start_time": "2025-10-17T10:10:39.974934Z"
    }
   },
   "cell_type": "code",
   "source": [
    "eri_AO = np.zeros((dim, dim, dim, dim))\n",
    "for mu in range(dim):\n",
    "    for nu in range(dim):\n",
    "        for la in range(dim):\n",
    "            for si in range(dim):\n",
    "                eri_AO[mu,nu,la,si] = two_e.get(yoshimine(mu,nu,la,si), 0.0)"
   ],
   "id": "ba0c72649225cff2",
   "outputs": [],
   "execution_count": 13
  },
  {
   "metadata": {
    "ExecuteTime": {
     "end_time": "2025-10-17T10:10:40.006102Z",
     "start_time": "2025-10-17T10:10:39.994550Z"
    }
   },
   "cell_type": "code",
   "source": [
    "# AO -> MO integral transformation\n",
    "h_MO = C.T @ Hcore @ C\n",
    "\n",
    "K = C.shape[0]\n",
    "eri_MO = np.zeros((K,K,K,K))\n",
    "for p in range(K):\n",
    "    for q in range(K):\n",
    "        Tpq = np.tensordot(eri_AO, C[:,p], axes=(0,0))        \n",
    "        Tpq = np.tensordot(Tpq,     C[:,q], axes=(0,0))        \n",
    "        for r in range(K):\n",
    "            Tpqr = np.tensordot(Tpq, C[:,r], axes=(0,0))       \n",
    "            for s in range(K):\n",
    "                eri_MO[p,q,r,s] = np.tensordot(Tpqr, C[:,s], axes=(0,0))"
   ],
   "id": "bd3483747b314274",
   "outputs": [],
   "execution_count": 14
  },
  {
   "metadata": {
    "ExecuteTime": {
     "end_time": "2025-10-17T10:10:40.038512Z",
     "start_time": "2025-10-17T10:10:40.030108Z"
    }
   },
   "cell_type": "code",
   "source": [
    "# Build spin-orbital integrals and antisymmetrize\n",
    "\n",
    "M = 2*K\n",
    "h_so = np.zeros((M, M))\n",
    "h_so[:K, :K] = h_MO      # alpha block\n",
    "h_so[K:, K:] = h_MO      # beta block\n",
    "\n",
    "\n",
    "g_asym = np.zeros((M, M, M, M))\n",
    "for p in range(M):\n",
    "    P, sp_p = p % K, p // K  # spatial index and spin (0=α, 1=β)\n",
    "    for q in range(M):\n",
    "        Q, sp_q = q % K, q // K\n",
    "        for r in range(M):\n",
    "            R, sp_r = r % K, r // K\n",
    "            for s in range(M):\n",
    "                S_, sp_s = s % K, s // K\n",
    "                # Spin selection rules:\n",
    "                if sp_p == sp_r and sp_q == sp_s:   # spin-conserving pair interaction\n",
    "                    val = eri_MO[P, Q, R, S_]\n",
    "                    # Subtract exchange only when both pairs have same spins\n",
    "                    if sp_p == sp_s and sp_q == sp_r:\n",
    "                        val -= eri_MO[P, Q, S_, R]\n",
    "                    g_asym[p, q, r, s] = val\n"
   ],
   "id": "f0184aa94e3581d5",
   "outputs": [],
   "execution_count": 15
  },
  {
   "metadata": {
    "ExecuteTime": {
     "end_time": "2025-10-17T10:10:40.077290Z",
     "start_time": "2025-10-17T10:10:40.070875Z"
    }
   },
   "cell_type": "code",
   "source": [
    "# Enumerate the determinant basis\n",
    "\n",
    "Nalpha = Nbeta = N // 2  # closed-shell assumption\n",
    "\n",
    "def bits_from_occ(occ):\n",
    "    b = 0\n",
    "    for i in occ: b |= (1 << i)\n",
    "    return b\n",
    "\n",
    "alpha_occ = list(combinations(range(K), Nalpha))\n",
    "beta_occ  = list(combinations(range(K), Nbeta))\n",
    "\n",
    "dets = [(bits_from_occ(oa), bits_from_occ(ob)) for oa in alpha_occ for ob in beta_occ]\n",
    "ndet = len(dets)\n",
    "print(f\"Number of determinants = {ndet}\")\n"
   ],
   "id": "85157e594b080bc8",
   "outputs": [
    {
     "name": "stdout",
     "output_type": "stream",
     "text": [
      "Number of determinants = 4\n"
     ]
    }
   ],
   "execution_count": 16
  },
  {
   "metadata": {
    "ExecuteTime": {
     "end_time": "2025-10-17T10:10:40.127273Z",
     "start_time": "2025-10-17T10:10:40.119615Z"
    }
   },
   "cell_type": "code",
   "source": [
    "# 5. Slater–Condon helpers\n",
    "\n",
    "def occ_list(bits):\n",
    "    occ, i = [], 0\n",
    "    while bits:\n",
    "        if bits & 1:\n",
    "            occ.append(i)\n",
    "        bits >>= 1\n",
    "        i += 1\n",
    "    return occ\n",
    "\n",
    "def excitation_info(a_bits, b_bits):\n",
    "    \"\"\"Return excitation degree and which orbitals differ.\"\"\"\n",
    "    removed = [i for i in occ_list(a_bits) if not ((b_bits >> i) & 1)]\n",
    "    added   = [i for i in occ_list(b_bits) if not ((a_bits >> i) & 1)]\n",
    "    return len(removed), removed, added\n",
    "\n",
    "def phase_single(bits, b, a):\n",
    "    \"\"\"Phase factor for single excitation (b->a).\"\"\"\n",
    "    if a == b: return 1\n",
    "    low, high = (a,b) if a < b else (b,a)\n",
    "    mask = ((1 << high) - 1) ^ ((1 << low) - 1)\n",
    "    n_cross = bin(bits & mask).count(\"1\")\n",
    "    return -1 if n_cross % 2 else 1"
   ],
   "id": "1ea8910ddf555723",
   "outputs": [],
   "execution_count": 17
  },
  {
   "metadata": {},
   "cell_type": "markdown",
   "source": [
    "# Slater–Condon matrix elements\n",
    "Diagonal::\n",
    "$$\n",
    "H_{II} = \n",
    "\\sum_{i \\in \\mathrm{occ}} h_{ii}\n",
    "+ \\tfrac{1}{2} \\sum_{i,j \\in \\mathrm{occ}} \n",
    "\\langle ij \\| ij \\rangle\n",
    "$$\n",
    "\n",
    "Single:\n",
    "$$\n",
    "H_{IJ} = \\pm \\left(\n",
    "h_{ab} + \\sum_{k \\in \\mathrm{occ}}\n",
    "\\langle ak \\| bk \\rangle\n",
    "\\right)\n",
    "$$\n",
    "\n",
    "Double:\n",
    "$$\n",
    "H_{IJ} = \\pm \\langle ac \\| bd \\rangle\n",
    "$$\n",
    "\n"
   ],
   "id": "796d86c9f70c2326"
  },
  {
   "metadata": {
    "ExecuteTime": {
     "end_time": "2025-10-17T10:10:40.181177Z",
     "start_time": "2025-10-17T10:10:40.167758Z"
    }
   },
   "cell_type": "code",
   "source": [
    "# 6. Slater–Condon matrix elements\n",
    "\n",
    "def diagonal_energy(alpha_bits, beta_bits):\n",
    "    occ_alpha = occ_list(alpha_bits)\n",
    "    occ_beta  = [i+K for i in occ_list(beta_bits)]\n",
    "    occ = occ_alpha + occ_beta\n",
    "    e1 = sum(h_so[p,p] for p in occ)\n",
    "    e2 = 0.0\n",
    "    # the 1/2 coefficient is self-contained here:\n",
    "    for i,p in enumerate(occ):\n",
    "        for q in occ[:i]:\n",
    "            e2 += g_asym[p,q,p,q] + g_asym[q,p,q,p]\n",
    "    return e1 + e2\n",
    "\n",
    "def hij(Di, Dj):\n",
    "    ai, bi = Di # Di = (alpha bits, beta bits)\n",
    "    aj, bj = Dj\n",
    "    da, rem_a, add_a = excitation_info(ai, aj)\n",
    "    db, rem_b, add_b = excitation_info(bi, bj)\n",
    "    deg = da + db\n",
    "    \n",
    "    \"\"\"\n",
    "    The degree of excitation is how many individual electron moves are required to turn one determinant into the other.\n",
    "    If three or more electrons differ, By the Slater–Condon rules, all those matrix elements are zero because the Hamiltonian only contains one- and two-electron operators — it cannot connect determinants that differ by three or more orbitals.\n",
    "    \"\"\"\n",
    "    if deg > 2:\n",
    "        return 0.0\n",
    "    \n",
    "    if deg == 0:\n",
    "        return diagonal_energy(ai, bi)\n",
    "    \n",
    "    # SINGLE excitation\n",
    "    if deg == 1:\n",
    "        if da == 1: # alpha-spin electron moved\n",
    "            b, a = rem_a[0], add_a[0]\n",
    "            ph = phase_single(ai, b, a)\n",
    "            a_so, b_so = a, b\n",
    "            occ_alpha = [i for i in occ_list(ai) if i != b]\n",
    "            occ_beta  = [i+K for i in occ_list(bi)]\n",
    "        else:\n",
    "            b, a = rem_b[0], add_b[0]\n",
    "            ph = phase_single(bi, b, a)\n",
    "            a_so, b_so = a+K, b+K\n",
    "            occ_alpha = [i for i in occ_list(ai)]\n",
    "            occ_beta  = [i+K for i in occ_list(bi) if i != b]\n",
    "        occ = occ_alpha + occ_beta\n",
    "        val = h_so[a_so,b_so] + sum(g_asym[a_so,k,b_so,k] for k in occ)\n",
    "        return ph * val\n",
    "    \n",
    "    # DOUBLE excitation\n",
    "    if deg == 2:\n",
    "        if da == 2:\n",
    "            b,d = rem_a; a,c = add_a\n",
    "            a_so,c_so = a,c\n",
    "            b_so,d_so = b,d\n",
    "        elif db == 2:\n",
    "            b,d = rem_b; a,c = add_b\n",
    "            a_so,c_so = a+K,c+K\n",
    "            b_so,d_so = b+K,d+K\n",
    "        else:\n",
    "            # one alpha, one beta excitation\n",
    "            b = rem_a[0]; a = add_a[0]\n",
    "            d = rem_b[0]; c = add_b[0]\n",
    "            a_so,c_so = a, c+K\n",
    "            b_so,d_so = b, d+K\n",
    "        return g_asym[a_so,c_so,b_so,d_so]\n"
   ],
   "id": "ba668ec2f828e53e",
   "outputs": [],
   "execution_count": 18
  },
  {
   "metadata": {
    "ExecuteTime": {
     "end_time": "2025-10-17T10:10:40.209485Z",
     "start_time": "2025-10-17T10:10:40.199283Z"
    }
   },
   "cell_type": "code",
   "source": [
    "# 7. Build and diagonalize the CI Hamiltonian\n",
    "\n",
    "H_CI = np.zeros((ndet, ndet))\n",
    "for i, Di in enumerate(dets):\n",
    "    for j, Dj in enumerate(dets[:i+1]):\n",
    "        val = hij(Di, Dj)\n",
    "        H_CI[i,j] = H_CI[j,i] = val\n",
    "\n",
    "E_vals, C_vecs = np.linalg.eigh(H_CI)\n",
    "E_elec_FCI = E_vals[0]\n",
    "E_tot_FCI  = E_elec_FCI + E_NUC\n",
    "\n",
    "\n",
    "print(f\"FCI total energy     : {E_tot_FCI :.8f} hartrees\")"
   ],
   "id": "d5c870755fee9e73",
   "outputs": [
    {
     "name": "stdout",
     "output_type": "stream",
     "text": [
      "FCI total energy     : -2.79121453 hartrees\n"
     ]
    }
   ],
   "execution_count": 19
  }
 ],
 "metadata": {
  "kernelspec": {
   "display_name": "Python 3",
   "language": "python",
   "name": "python3"
  },
  "language_info": {
   "codemirror_mode": {
    "name": "ipython",
    "version": 2
   },
   "file_extension": ".py",
   "mimetype": "text/x-python",
   "name": "python",
   "nbconvert_exporter": "python",
   "pygments_lexer": "ipython2",
   "version": "2.7.6"
  }
 },
 "nbformat": 4,
 "nbformat_minor": 5
}
